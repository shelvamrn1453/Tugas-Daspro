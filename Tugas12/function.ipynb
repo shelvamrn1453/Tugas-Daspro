{
 "cells": [
  {
   "cell_type": "code",
   "execution_count": 3,
   "id": "249e0137-2d2f-4ad2-ba4c-d733c0867804",
   "metadata": {},
   "outputs": [],
   "source": [
    "#function dan built in function\n",
    "#1. function tanpa parameter\n",
    "\n",
    "import datetime\n",
    "\n",
    "def showDate():\n",
    "    today = datetime.date.today()\n",
    "    print(f'today is : {today}')"
   ]
  },
  {
   "cell_type": "code",
   "execution_count": 23,
   "id": "b4b058fb-6dd9-4016-8ab0-cd271ee44a94",
   "metadata": {},
   "outputs": [],
   "source": [
    "#2. function dengan parameter\n",
    "#menampilkan nama lengkap beserta gelar\n",
    "\n",
    "def getFullName(first, middle, last):\n",
    "    fullName = f'{first} {middle} {last}, S.Kom'\n",
    "    print(f'welcome, {fullName}')\n",
    "    return first"
   ]
  },
  {
   "cell_type": "code",
   "execution_count": 69,
   "id": "d3acf538-191e-49f2-b0d8-110697f59cd2",
   "metadata": {},
   "outputs": [
    {
     "name": "stdout",
     "output_type": "stream",
     "text": [
      "hasil penjumlahan 10 dan 5 : 15\n",
      "hasil perkalian 4 dan 5 : 20\n",
      "hasil penjumlahan r1 dan r2 : 35\n",
      "15\n",
      "2.0\n"
     ]
    }
   ],
   "source": [
    "#3. function dengan return value\n",
    "\n",
    "def addNumber(num1, num2):\n",
    "    result = num1 + num2\n",
    "    return result\n",
    "\n",
    "def multiplyNumber(num1, num2):\n",
    "    result = num1 * num2\n",
    "    return result\n",
    "\n",
    "def math(num1, num2): #return 2 variabel\n",
    "    rAdd = num1 + num2\n",
    "    rDivide = num1 / num2\n",
    "    return rAdd, rDivide\n",
    "\n",
    "r1 = addNumber(10, 5)\n",
    "r2 = multiplyNumber(4, 5)\n",
    "r3 = addNumber(r1, r2)\n",
    "rAdd, rDivide = math(10,5)\n",
    "print(f'hasil penjumlahan 10 dan 5 : {r1}')\n",
    "print(f'hasil perkalian 4 dan 5 : {r2}')\n",
    "print(f'hasil penjumlahan r1 dan r2 : {r3}')\n",
    "print(rAdd)\n",
    "print(rDivide)"
   ]
  },
  {
   "cell_type": "code",
   "execution_count": 59,
   "id": "c1da5731-fe78-46cc-8fab-bc7b684bbd69",
   "metadata": {},
   "outputs": [],
   "source": [
    "#4. function dengan nilai defult\n",
    "\n",
    "def userRegistration(nama, email, status = False, role = 'user'):\n",
    "    return f'nama : {nama}\\nemail : {email}\\nrole : {role}'"
   ]
  },
  {
   "cell_type": "code",
   "execution_count": 65,
   "id": "1cd13995-8297-481a-a5fd-ffcf257db7ec",
   "metadata": {},
   "outputs": [
    {
     "name": "stdout",
     "output_type": "stream",
     "text": [
      "tiday is : 2025-05-21\n",
      "welcome, nana lala mia, S.Kom\n",
      "nama : None\n",
      " email : nana@gmail.com\n",
      " role : user\n",
      "nama : admin\n",
      " email : admin@gmail.com\n",
      " role : admin\n"
     ]
    }
   ],
   "source": [
    "showDate()\n",
    "firstName = getFullName('nana', 'lala', 'mia')\n",
    "print(userRegistration(firstName, 'nana@gmail.com'))\n",
    "print(userRegistration('admin', 'admin@gmail.com', True, 'admin'))"
   ]
  },
  {
   "cell_type": "code",
   "execution_count": 91,
   "id": "38bdc0c1-b7da-4e38-b62e-9398208c44c2",
   "metadata": {},
   "outputs": [
    {
     "name": "stdout",
     "output_type": "stream",
     "text": [
      "('malang', 'surabaya', 'sukabumi', 'jakarta')\n",
      "{'nama': 'andri', 'umur': 21}\n",
      "malang\n",
      "andri\n",
      "21\n"
     ]
    }
   ],
   "source": [
    "#5. function dengan keywords argument, menggunakna tanda * dan **\n",
    "# * -> tuple\n",
    "# ** -> dictionary\n",
    "def printData(*args, **kwargs):\n",
    "    print(args)\n",
    "    print(kwargs)\n",
    "    return args, kwargs\n",
    "\n",
    "data1, data2 = printData('malang', 'surabaya', 'sukabumi', 'jakarta', nama = 'andri', umur = 21)\n",
    "\n",
    "print(data1[0])\n",
    "\n",
    "for item in  data2.items(): #mengambil nilai dari dictionary\n",
    "    print(item[1])"
   ]
  },
  {
   "cell_type": "code",
   "execution_count": null,
   "id": "7d6b0041-59e5-46ca-ae7d-04c96f85536d",
   "metadata": {},
   "outputs": [],
   "source": [
    "import modul"
   ]
  },
  {
   "cell_type": "code",
   "execution_count": null,
   "id": "3825acb3-b535-44c0-9f50-0c718e4abe2c",
   "metadata": {},
   "outputs": [],
   "source": []
  },
  {
   "cell_type": "code",
   "execution_count": null,
   "id": "c73c5e39-c13f-4eb3-84e5-c0492b6327ca",
   "metadata": {},
   "outputs": [],
   "source": []
  }
 ],
 "metadata": {
  "kernelspec": {
   "display_name": "Python [conda env:base] *",
   "language": "python",
   "name": "conda-base-py"
  },
  "language_info": {
   "codemirror_mode": {
    "name": "ipython",
    "version": 3
   },
   "file_extension": ".py",
   "mimetype": "text/x-python",
   "name": "python",
   "nbconvert_exporter": "python",
   "pygments_lexer": "ipython3",
   "version": "3.12.7"
  }
 },
 "nbformat": 4,
 "nbformat_minor": 5
}
