{
 "cells": [
  {
   "cell_type": "code",
   "execution_count": 4,
   "id": "14bcee01-9c68-4a0b-99e5-01f1497eadfc",
   "metadata": {},
   "outputs": [
    {
     "name": "stdout",
     "output_type": "stream",
     "text": [
      "\n",
      "    1. Aritmatika\n",
      "    2. Konversi\n",
      "    3. Ubah Bilangan\n",
      "    4. Exit\n",
      "    \n"
     ]
    },
    {
     "name": "stdin",
     "output_type": "stream",
     "text": [
      "Pilih 1/2/3/4:  5\n"
     ]
    },
    {
     "name": "stdout",
     "output_type": "stream",
     "text": [
      "MASUKKAN ANGKA YANG BENAR!\n",
      "\n",
      "    1. Aritmatika\n",
      "    2. Konversi\n",
      "    3. Ubah Bilangan\n",
      "    4. Exit\n",
      "    \n"
     ]
    },
    {
     "name": "stdin",
     "output_type": "stream",
     "text": [
      "Pilih 1/2/3/4:  1\n"
     ]
    },
    {
     "name": "stdout",
     "output_type": "stream",
     "text": [
      "\n",
      "    1. Penjumlahan\n",
      "    2. Pengurangan \n",
      "    3. Perkalian\n",
      "    4. Exit\n",
      "    \n"
     ]
    },
    {
     "name": "stdin",
     "output_type": "stream",
     "text": [
      "Isikan pilihan 1/2/3/4:  1\n",
      "isikan angka ke 1 :  2\n",
      "isikan angka ke 2 :  4\n"
     ]
    },
    {
     "name": "stdout",
     "output_type": "stream",
     "text": [
      "2 + 4 = 6\n",
      "\n",
      "    1. Penjumlahan\n",
      "    2. Pengurangan \n",
      "    3. Perkalian\n",
      "    4. Exit\n",
      "    \n"
     ]
    },
    {
     "name": "stdin",
     "output_type": "stream",
     "text": [
      "Isikan pilihan 1/2/3/4:  4\n"
     ]
    },
    {
     "name": "stdout",
     "output_type": "stream",
     "text": [
      "\n",
      "    1. Aritmatika\n",
      "    2. Konversi\n",
      "    3. Ubah Bilangan\n",
      "    4. Exit\n",
      "    \n"
     ]
    },
    {
     "name": "stdin",
     "output_type": "stream",
     "text": [
      "Pilih 1/2/3/4:  3\n"
     ]
    },
    {
     "name": "stdout",
     "output_type": "stream",
     "text": [
      "\n",
      "    1. Decimal to Binary\n",
      "    2. Decimal to Oktal\n",
      "    3. Decimal to Hexadecimal\n",
      "    4. Exit\n",
      "    \n"
     ]
    },
    {
     "name": "stdin",
     "output_type": "stream",
     "text": [
      "Isikan pilihan 1/2/3/4:  3\n",
      "isikan bialnag desimal :  5\n"
     ]
    },
    {
     "name": "stdout",
     "output_type": "stream",
     "text": [
      "Hexadesimal dari 5 adalah : 0x5\n",
      "\n",
      "    1. Decimal to Binary\n",
      "    2. Decimal to Oktal\n",
      "    3. Decimal to Hexadecimal\n",
      "    4. Exit\n",
      "    \n"
     ]
    },
    {
     "name": "stdin",
     "output_type": "stream",
     "text": [
      "Isikan pilihan 1/2/3/4:  4\n"
     ]
    },
    {
     "name": "stdout",
     "output_type": "stream",
     "text": [
      "\n",
      "    1. Aritmatika\n",
      "    2. Konversi\n",
      "    3. Ubah Bilangan\n",
      "    4. Exit\n",
      "    \n"
     ]
    },
    {
     "name": "stdin",
     "output_type": "stream",
     "text": [
      "Pilih 1/2/3/4:  4\n"
     ]
    },
    {
     "name": "stdout",
     "output_type": "stream",
     "text": [
      "TERIMA KASIH!\n"
     ]
    }
   ],
   "source": [
    "import Mathematic.math as mtk\n",
    "import Convert.convert as cv \n",
    "import UbahBilangan.bilchange as ch\n",
    "\n",
    "def menuUtama():\n",
    "    print(\"\"\"\n",
    "    1. Aritmatika\n",
    "    2. Konversi\n",
    "    3. Ubah Bilangan\n",
    "    4. Exit\n",
    "    \"\"\")\n",
    "\n",
    "def menuMath():\n",
    "    print(\"\"\"\n",
    "    1. Penjumlahan\n",
    "    2. Pengurangan \n",
    "    3. Perkalian\n",
    "    4. Exit\n",
    "    \"\"\")\n",
    "\n",
    "def menuConvert():\n",
    "    print(\"\"\"\n",
    "    1. Cm to Meter\n",
    "    2. Meter to Cm\n",
    "    3. Exit\n",
    "    \"\"\")\n",
    "\n",
    "def menuUbahBilangan():\n",
    "    print(\"\"\"\n",
    "    1. Decimal to Binary\n",
    "    2. Decimal to Oktal\n",
    "    3. Decimal to Hexadecimal\n",
    "    4. Exit\n",
    "    \"\"\")\n",
    "\n",
    "running = True #membuat variabel boolean \"running = True\" menjalankan progran utama terus menerus \n",
    "while running: #menjaga agar menu utama terus muncul sampau user memilih exit\n",
    "    menuUtama()\n",
    "    pilihMenu = int(input('Pilih 1/2/3/4: '))\n",
    "    if pilihMenu == 1:\n",
    "        while True: #menggunakan nested loop(perulangan bersarang). selama user belum memilih \"Exit\", dai akan terus memcoba mengubah bilangan\n",
    "            menuMath()\n",
    "            pilihMath = int(input('Isikan pilihan 1/2/3/4: '))\n",
    "            if pilihMath == 1:\n",
    "                angka1 = int(input('isikan angka ke 1 : '))\n",
    "                angka2 = int(input('isikan angka ke 2 : '))\n",
    "                penjumlahan = mtk.addNumber(angka1, angka2)\n",
    "                print(f'{angka1} + {angka2} = {penjumlahan}')\n",
    "            elif pilihMath == 2:\n",
    "                angka1 = int(input('isikan angka ke 1 : '))\n",
    "                angka2 = int(input('isikan angka ke 2 : '))\n",
    "                pengurangan = mtk.subNumber(angka1, angka2)\n",
    "                print(f'{angka1} + {angka2} = {pengurangan}')\n",
    "            elif pilihMath == 3:\n",
    "                angka1 = int(input('isikan angka ke 1 : '))\n",
    "                angka2 = int(input('isikan angka ke 2 : '))\n",
    "                perkalian = mtk.mulNumber(angka1, angka2)\n",
    "                print(f'{angka1} + {angka2} = {perkalian}')\n",
    "            elif pilihMath == 4:\n",
    "                break\n",
    "            else:\n",
    "                print('Pilihan tidak valid.')\n",
    "\n",
    "    elif pilihMenu == 2:\n",
    "        while True:\n",
    "            menuConvert()\n",
    "            pilihConvert = int(input('Isikan pilihan 1/2/3: '))\n",
    "            if pilihConvert == 1:\n",
    "                panjangCm = int(input('isikan panjang benda (CM) : '))\n",
    "                panjangM = cv.cmToMeter(panjangCm)\n",
    "                print(f'hasil konversi ke Meter : {panjangM}')\n",
    "            elif pilihConvert == 2:\n",
    "                panjangM = int(input('isikan panjang benda (M) : '))\n",
    "                panjangCm = cv.meterToCm(panjangM)\n",
    "                print(f'hasil konversi ke CM : {panjangCm}')\n",
    "            elif pilihConvert == 3:\n",
    "                break\n",
    "            else:\n",
    "                print('Pilihan tidak valid.')\n",
    "\n",
    "    elif pilihMenu == 3:\n",
    "        while True:\n",
    "            menuUbahBilangan()\n",
    "            pilihUbah = int(input('Isikan pilihan 1/2/3/4: '))\n",
    "            if pilihUbah == 1:\n",
    "                bilDec = int(input('isikan bilangan desimal : '))\n",
    "                bilBin = ch.desToBiner(bilDec)\n",
    "                print(f'Binary dari {bilDec} adalah : {bilBin}')\n",
    "            elif pilihUbah == 2:\n",
    "                bilDec = int(input('isikan bialnag desimal : '))\n",
    "                bilOct = ch.desToOktal(bilDec)\n",
    "                print(f'Oktal dari {bilDec} adalah : {bilOct}')\n",
    "            elif pilihUbah == 3:\n",
    "                bilDec = int(input('isikan bialnag desimal : '))\n",
    "                bilHexa = ch.desToHexa(bilDec)\n",
    "                print(f'Hexadesimal dari {bilDec} adalah : {bilHexa}')\n",
    "            elif pilihUbah == 4:\n",
    "                break\n",
    "            else:\n",
    "                print('Pilihan tidak valid.')\n",
    "\n",
    "    elif pilihMenu == 4:\n",
    "        print('TERIMA KASIH!')\n",
    "        running = False  #jika user memilih \"Exit\" dari menu utama, maka running akan menjadi FALSE, dan karean loop utama berhenti, program selesai\n",
    "\n",
    "    else:\n",
    "        print('MASUKKAN ANGKA YANG BENAR!')"
   ]
  }
 ],
 "metadata": {
  "kernelspec": {
   "display_name": "Python [conda env:base] *",
   "language": "python",
   "name": "conda-base-py"
  },
  "language_info": {
   "codemirror_mode": {
    "name": "ipython",
    "version": 3
   },
   "file_extension": ".py",
   "mimetype": "text/x-python",
   "name": "python",
   "nbconvert_exporter": "python",
   "pygments_lexer": "ipython3",
   "version": "3.12.7"
  }
 },
 "nbformat": 4,
 "nbformat_minor": 5
}
