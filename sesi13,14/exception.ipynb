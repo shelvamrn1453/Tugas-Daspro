{
 "cells": [
  {
   "cell_type": "code",
   "execution_count": null,
   "id": "8e8c0db3-8992-4235-8beb-a453fe14db81",
   "metadata": {},
   "outputs": [],
   "source": [
    "#Aritmatika\n",
    "#cara 1\n",
    "try:\n",
    "    angka1 = int(input('isikan angka 1 : '))\n",
    "    angka2 = int(input('isikan angka 2 : '))\n",
    "    hasil = angka1 / angka2\n",
    "except ZeroDivisionError:\n",
    "    print('tidak boleh pembagian dengan nol')\n",
    "except ValueError:\n",
    "    print('input harus berupa angka')\n",
    "else:\n",
    "    print(f'hasil pembagian :{hasil}')\n",
    "finally: #finally bersifat optional\n",
    "    print('program berkahir')\n"
   ]
  },
  {
   "cell_type": "code",
   "execution_count": 21,
   "id": "035df949-31f9-40b9-ab18-fdf01f550a74",
   "metadata": {},
   "outputs": [
    {
     "name": "stdin",
     "output_type": "stream",
     "text": [
      "isikan angka 1 :  10\n",
      "isikan angka 2 :  a\n"
     ]
    },
    {
     "name": "stdout",
     "output_type": "stream",
     "text": [
      "terjadi kesalahan : invalid literal for int() with base 10: 'a'\n",
      "program berkahir\n"
     ]
    }
   ],
   "source": [
    "#Aritmatika\n",
    "#cara 2\n",
    "try:\n",
    "    angka1 = int(input('isikan angka 1 : '))\n",
    "    angka2 = int(input('isikan angka 2 : '))\n",
    "    hasil = angka1 / angka2\n",
    "except (ZeroDivisionError, ValueError) as exception:\n",
    "    print(f'terjadi kesalahan :', exception)\n",
    "else:\n",
    "    print(f'hasil pembagian :{hasil}')\n",
    "finally: #finally bersifat optional \n",
    "    print('program berkahir')\n"
   ]
  },
  {
   "cell_type": "code",
   "execution_count": 57,
   "id": "09cac264-8e27-45bb-b208-a939559f3ea8",
   "metadata": {},
   "outputs": [
    {
     "name": "stdout",
     "output_type": "stream",
     "text": [
      "nilai min : 75\n",
      "nilai max : 100\n",
      "program selesai!!\n"
     ]
    }
   ],
   "source": [
    "#Index Error\n",
    "try:\n",
    "    nilaiMahasiswa = [100,90,80,100,70,89,75]\n",
    "    nilaiMahasiswa.sort()\n",
    "    nilaiMin = nilaiMahasiswa[1]\n",
    "    nilaiMax = nilaiMahasiswa[5]\n",
    "except IndexError:\n",
    "    print('salah mengakses index')\n",
    "else:\n",
    "    print(f'nilai min : {nilaiMin}')\n",
    "    print(f'nilai max : {nilaiMahasiswa[len(nilaiMahasiswa)-1]}')\n",
    "finally:\n",
    "    print(f'program selesai!!')"
   ]
  },
  {
   "cell_type": "code",
   "execution_count": 77,
   "id": "6fea58d7-6562-471a-a282-1090701b86b2",
   "metadata": {},
   "outputs": [
    {
     "name": "stdout",
     "output_type": "stream",
     "text": [
      "halo apa kabar!!\n",
      "sebentar lagi ujian!!\n",
      "halo apa kabar!!\n",
      "sebentar lagi ujian!!\n",
      "halo apa kabar!!\n",
      "sebentar lagi ujian!!\n",
      "\n"
     ]
    }
   ],
   "source": [
    "#File Handling\n",
    "#Membaca file\n",
    "# syntaks dasar : f = open('namafile', 'mode')\n",
    "try:\n",
    "    f = open('data.txt', 'r') #r adalah read -> membaca isi file\n",
    "    baris = f.read()   \n",
    "except FileNotFoundError:\n",
    "    print('file tidak ditemukan')\n",
    "else:\n",
    "    print(baris)\n",
    "finally: \n",
    "    f.close()"
   ]
  },
  {
   "cell_type": "code",
   "execution_count": 75,
   "id": "44034f6e-39ad-489e-ab73-f17def7d8884",
   "metadata": {},
   "outputs": [],
   "source": [
    "with open('data.txt', 'w') as file: #'w' untuk write -> membuat file\n",
    "    file.write('halo apa kabar!!\\n')\n",
    "    file.write('sebentar lagi ujian!!\\n')\n",
    "\n",
    "with open('data.txt', 'a') as file: #'a' adalah append -> menambah isi file\n",
    "    file.write('halo apa kabar!!\\n')\n",
    "    file.write('sebentar lagi ujian!!\\n')"
   ]
  },
  {
   "cell_type": "code",
   "execution_count": null,
   "id": "f84d8b06-d509-4edb-ad72-195b852a9bc1",
   "metadata": {},
   "outputs": [],
   "source": []
  },
  {
   "cell_type": "code",
   "execution_count": null,
   "id": "c07f99ca-ee36-484c-8b42-bdafe6010186",
   "metadata": {},
   "outputs": [],
   "source": []
  },
  {
   "cell_type": "code",
   "execution_count": null,
   "id": "922e93d1-af2e-435f-98c0-8eab5c066eef",
   "metadata": {},
   "outputs": [],
   "source": []
  },
  {
   "cell_type": "code",
   "execution_count": null,
   "id": "9ac432ff-ad1a-476a-be4b-e5d320b2b0f4",
   "metadata": {},
   "outputs": [],
   "source": []
  }
 ],
 "metadata": {
  "kernelspec": {
   "display_name": "Python [conda env:base] *",
   "language": "python",
   "name": "conda-base-py"
  },
  "language_info": {
   "codemirror_mode": {
    "name": "ipython",
    "version": 3
   },
   "file_extension": ".py",
   "mimetype": "text/x-python",
   "name": "python",
   "nbconvert_exporter": "python",
   "pygments_lexer": "ipython3",
   "version": "3.12.7"
  }
 },
 "nbformat": 4,
 "nbformat_minor": 5
}
