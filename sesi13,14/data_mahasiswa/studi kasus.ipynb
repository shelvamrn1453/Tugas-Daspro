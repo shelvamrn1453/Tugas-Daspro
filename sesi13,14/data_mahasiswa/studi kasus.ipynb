{
 "cells": [
  {
   "cell_type": "code",
   "execution_count": 3,
   "id": "3696e071-dd2e-482e-a47f-3800537523c3",
   "metadata": {},
   "outputs": [
    {
     "name": "stdout",
     "output_type": "stream",
     "text": [
      "20240040075\n",
      "shelva\n",
      "sukaraja\n",
      "TI24\n"
     ]
    }
   ],
   "source": [
    "\n",
    "\n",
    "while True:\n",
    "    try:\n",
    "        f = open('dataMahasiswa.txt', 'r') \n",
    "        baris = f.read()   \n",
    "    except FileNotFoundError:\n",
    "        print('file tidak ditemukan')\n",
    "    except \n",
    "    else:\n",
    "        print(baris)\n",
    "    finally: \n",
    "        f.close()\n",
    "\n",
    "try:\n",
    "    with open ('dataNimMahasiswa.txt', 'w') as file:\n",
    "    if len(nim) != 11 or not nim.indigit():\n",
    "        praise ValueError(\"NIM harus terdiri dari 11 angka.\")\n",
    "    file.write(f'NIM: {nim}\\n')\n",
    "\n",
    "except ValueErrror as e:\n",
    "    print(e)\n",
    "\n",
    "try:\n",
    "    with open(\"dataMahasiswa.txt\", \"w\") as file:\n",
    "        if len(nama) <5:\n",
    "            raise ValueError(\"Nama yang kamu masukkan tidak valid\")\n",
    "        file.write(f\"Nama : {nama}\")\n",
    "\n",
    "except ValueError as e:\n",
    "    print(e)\n",
    "\n",
    "try:\n",
    "    with open(\"dataAlamat.txt\", \"w\") as file:\n",
    "        if len(alamat) <10:\n",
    "            raise ValueError(\"Alamat yang kamu masukkan tidak valid\")\n",
    "        file.write(f\"Alamat : {alamat}\")\n",
    "\n",
    "except ValueError as e:\n",
    "    print(e)\n",
    "\n",
    "try:\n",
    "    with open(\"dataKelas.txt\", \"w\") as file:\n",
    "        if kelas != \"TI23\" or \"TI24\" :\n",
    "            raise ValueError(\"Kelas yang kamu masukkan tidak valid\")\n",
    "        file.write(f\"Kelas : {kelas}\")\n",
    "\n",
    "except ValueError as e:\n",
    "    print(e)\n",
    "    "
   ]
  },
  {
   "cell_type": "code",
   "execution_count": 5,
   "id": "1bc1060a-31d6-41e0-8ffc-85bfef4d2f6d",
   "metadata": {},
   "outputs": [
    {
     "name": "stdin",
     "output_type": "stream",
     "text": [
      "masukkan NIM anda :  20240040075\n",
      "masukkan nama anda :  shelva\n",
      "masukkan alamat anda :  sukaraja\n",
      "masukkan kelas anda :  TI24\n"
     ]
    }
   ],
   "source": [
    "with open ('dataNimMahasiswa.txt', 'w') as file:\n",
    "    nim = input('masukkan NIM anda : ')\n",
    "    file.write(f'NIM: {nim}\\n')\n",
    "\n",
    "with open ('dataNamaMahasiswa.txt', 'w') as file:\n",
    "    nama = input('masukkan nama anda : ')\n",
    "    file.write(f'Nama: {nama}\\n')\n",
    "\n",
    "with open ('dataAlamatMahasiswa.txt', 'w') as file:\n",
    "    nama = input('masukkan nama anda : ')\n",
    "    file.write(f'Alamat: {alamat}\\n')\n",
    "\n",
    "with open ('dataKelastMahasiswa.txt', 'w') as file:\n",
    "    nama = input('masukkan nama anda : ')\n",
    "    file.write(f'Kelas: {kelas}')\n",
    "    \n",
    "    "
   ]
  },
  {
   "cell_type": "code",
   "execution_count": null,
   "id": "d03f91d0-f45f-4f9c-8cf3-ca0de1ee7a00",
   "metadata": {},
   "outputs": [],
   "source": []
  },
  {
   "cell_type": "code",
   "execution_count": null,
   "id": "41cd2938-677a-4cb9-ac9e-21ef3d57f3df",
   "metadata": {},
   "outputs": [],
   "source": []
  }
 ],
 "metadata": {
  "kernelspec": {
   "display_name": "Python [conda env:base] *",
   "language": "python",
   "name": "conda-base-py"
  },
  "language_info": {
   "codemirror_mode": {
    "name": "ipython",
    "version": 3
   },
   "file_extension": ".py",
   "mimetype": "text/x-python",
   "name": "python",
   "nbconvert_exporter": "python",
   "pygments_lexer": "ipython3",
   "version": "3.12.7"
  }
 },
 "nbformat": 4,
 "nbformat_minor": 5
}
