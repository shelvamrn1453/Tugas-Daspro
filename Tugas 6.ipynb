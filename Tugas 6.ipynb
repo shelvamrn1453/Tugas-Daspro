{
 "cells": [
  {
   "cell_type": "markdown",
   "id": "5854a90d-e435-44ae-9e31-3bc520e011b1",
   "metadata": {
    "id": "5854a90d-e435-44ae-9e31-3bc520e011b1"
   },
   "source": [
    "Buatlah program yang meminta pengguna memasukkan usia seseorang, lalu tentukan apakah dia <br>\n",
    "anak-anak (0-12 tahun), remaja (13-17 tahun), dewasa (18-59 tahun), atau lansia (60 tahun ke atas)."
   ]
  },
  {
   "cell_type": "code",
   "execution_count": 13,
   "id": "75a2fdcd-1ef1-45e4-9d79-c6a7cb708a18",
   "metadata": {
    "id": "75a2fdcd-1ef1-45e4-9d79-c6a7cb708a18"
   },
   "outputs": [
    {
     "name": "stdin",
     "output_type": "stream",
     "text": [
      "masukkan usia :  15\n"
     ]
    },
    {
     "name": "stdout",
     "output_type": "stream",
     "text": [
      "pada usia 15 termasuk kategoti remaja\n"
     ]
    }
   ],
   "source": [
    "cekUsia = int(input('masukkan usia : '))\n",
    "if cekUsia <= 12:\n",
    "    hasilCek = 'anak-anak'\n",
    "elif 13 <= cekUsia <= 17:\n",
    "    hasilCek = 'remaja'\n",
    "elif 18 <= cekUsia <= 59:\n",
    "    hasilCek = 'dewasa'\n",
    "elif cekUsia >= 60:\n",
    "    hasilCek = 'lansia'\n",
    "print(f'pada usia {cekUsia} termasuk kategoti {hasilCek}')"
   ]
  },
  {
   "cell_type": "markdown",
   "id": "68c95835-e4ad-4bd0-89ca-168200893cf7",
   "metadata": {
    "id": "68c95835-e4ad-4bd0-89ca-168200893cf7"
   },
   "source": [
    "Sebuah taman hiburan memiliki aturan harga tiket berdasarkan usia:\n",
    "<ol>\n",
    "<li>Anak-anak (0-12 tahun): Rp 10.000</li>\n",
    "<li>Remaja (13-17 tahun): Rp 15.000</li>\n",
    "<li>Dewasa (18-59 tahun): Rp 25.000</li>\n",
    "<li>Lansia (60 tahun ke atas): Gratis</li>\n",
    "</ol>\n",
    "Buat program untuk menentukan harga tiket berdasarkan usia yang dimasukkan pengguna dan total harga yang harus dibayar, jika terdapat 3 input seperti berikut ini"
   ]
  },
  {
   "cell_type": "code",
   "execution_count": 19,
   "id": "66ee699f-8355-48e0-939a-dcc73ba4425b",
   "metadata": {
    "id": "66ee699f-8355-48e0-939a-dcc73ba4425b"
   },
   "outputs": [
    {
     "name": "stdin",
     "output_type": "stream",
     "text": [
      "Isikan Umur Tiket 1: 10\n",
      "Isikan Umur Tiket 2:  90\n",
      "Isikan Umur Tiket 3:  56\n"
     ]
    },
    {
     "name": "stdout",
     "output_type": "stream",
     "text": [
      "harga tiket : Rp 10000\n",
      "harga tiket : 0\n",
      "harga tiket : RP 25000\n",
      "total harga tiket : Rp 35000\n"
     ]
    }
   ],
   "source": [
    "tiket1 = int(input(\"Isikan Umur Tiket 1:\"))\n",
    "tiket2 = int(input(\"Isikan Umur Tiket 2: \"))\n",
    "tiket3 = int(input(\"Isikan Umur Tiket 3: \"))\n",
    "\n",
    "if tiket1 <= 12:\n",
    "    harga1 = 10000\n",
    "    print('harga tiket : Rp', harga1)\n",
    "elif 13 <= tiket1 <= 12:\n",
    "    harga1 = 15000\n",
    "    print('harga tiket : Rp', harga1)\n",
    "elif 18 <= tiket1 <= 59:\n",
    "    harga1 = 25000\n",
    "    print('harga tiket : Rp', harga1)\n",
    "elif tiket1 >= 60:\n",
    "    harga1 = 0\n",
    "    print('harga tiket : Rp', harga1)\n",
    "\n",
    "if tiket2 <= 12:\n",
    "    harga2 = 10000\n",
    "    print('harga tiket : Rp', harga2)\n",
    "elif 13 <= tiket2 <= 12:\n",
    "    harga2 = 15000\n",
    "    print('harga tiket : Rp', harga2)\n",
    "elif 18 <= tiket2 <= 59:\n",
    "    harga2 = 25000\n",
    "    print('harga tiket : Rp', harga2)\n",
    "elif tiket2 >= 60:\n",
    "    harga2 = 0\n",
    "    print('harga tiket :', harga2)\n",
    "\n",
    "if tiket3 <= 12:\n",
    "    harga3 = 10000\n",
    "    print('harga tiket : Rp', harga3)\n",
    "elif 13 <= tiket3 <= 12:\n",
    "    harga3 = 15000\n",
    "    print('harga tiket : Rp', harga3)\n",
    "elif 18 <= tiket3 <= 59:\n",
    "    harga3 = 25000\n",
    "    print('harga tiket : RP', harga3)\n",
    "elif tiket3 >= 60:\n",
    "    harga3 = 0\n",
    "    print('harga tiket : Rp', harga3)\n",
    "\n",
    "print('total harga tiket : Rp', harga1 + harga2 + harga3)"
   ]
  },
  {
   "cell_type": "markdown",
   "id": "82eac646-d930-42f5-a253-03f84c32f943",
   "metadata": {
    "id": "82eac646-d930-42f5-a253-03f84c32f943"
   },
   "source": [
    "Sebuah restoran memiliki diskon khusus:\n",
    "Anak-anak (0-12 tahun) diskon 50%\n",
    "Lansia (60 tahun ke atas) diskon 30%\n",
    "Selain itu, tidak ada diskon\n",
    "Buat program untuk menghitung harga yang harus dibayar setelah diskon diberikan."
   ]
  },
  {
   "cell_type": "code",
   "execution_count": 36,
   "id": "feb31fca-fce6-4e5f-a25f-8752e7a0033b",
   "metadata": {
    "id": "feb31fca-fce6-4e5f-a25f-8752e7a0033b"
   },
   "outputs": [
    {
     "name": "stdin",
     "output_type": "stream",
     "text": [
      "masukkan total belanja :  34000\n",
      "masukkan usia :  40\n"
     ]
    },
    {
     "name": "stdout",
     "output_type": "stream",
     "text": [
      "anda tidak mendapatkan diskon!\n"
     ]
    }
   ],
   "source": [
    "totalBelanja = int(input('masukkan total belanja : '))\n",
    "usia = int(input('masukkan usia : '))\n",
    "\n",
    "if usia <= 12:\n",
    "    diskon1 = 50\n",
    "    hitung1 = totalBelanja - (totalBelanja * diskon1 / 100)\n",
    "    print('anda mendapatkan diskon sebesar 50%, harga yang harus dibayar sebesar Rp', hitung1)\n",
    "elif usia >= 60:\n",
    "    diskon1 = 30\n",
    "    hitung2 = totalBelanja - (totalBelanja * diskon1 / 100)\n",
    "    print('anda mendapatkan diskon sebesar 30%, harga yang harus dibayar sebesar Rp', hitung2)\n",
    "else:\n",
    "    print('anda tidak mendapatkan diskon!')\n"
   ]
  },
  {
   "cell_type": "markdown",
   "id": "aee8bab3-9bf1-4732-97e1-7abb32ce7184",
   "metadata": {
    "id": "aee8bab3-9bf1-4732-97e1-7abb32ce7184"
   },
   "source": [
    "Program beasiswa:\n",
    "<ol>\n",
    "<li>Jika nilai rapor ≥ 90 dan penghasilan orang tua < Rp 5.000.000 → Beasiswa Penuh</li>\n",
    "<li>Jika nilai rapor ≥ 85 dan penghasilan orang tua < Rp 8.000.000 → Beasiswa 50%</li>\n",
    "<li>Jika tidak memenuhi syarat di atas → Tidak mendapatkan beasiswa</li>\n",
    "</ol>"
   ]
  },
  {
   "cell_type": "code",
   "execution_count": 40,
   "id": "55a9ec4f-531b-4326-bca3-e0d19b4be47d",
   "metadata": {
    "id": "55a9ec4f-531b-4326-bca3-e0d19b4be47d"
   },
   "outputs": [
    {
     "name": "stdin",
     "output_type": "stream",
     "text": [
      "nilai :  89\n",
      "penghasilan orang tua :  3000000\n"
     ]
    },
    {
     "name": "stdout",
     "output_type": "stream",
     "text": [
      "anda mendapatkan beasiswa 50%!\n"
     ]
    }
   ],
   "source": [
    "nilai = int(input('nilai : '))\n",
    "penghasilan = int(input('penghasilan orang tua : '))\n",
    "\n",
    "if nilai >= 90 and penghasilan < 5000000:\n",
    "    print('anda mendapatkan beasiswa penuh!')\n",
    "elif nilai >= 85 and penghasilan <8000000:\n",
    "    print('anda mendapatkan beasiswa 50%!')\n",
    "else:\n",
    "    print('anda tidak dapat mendapatkan beasiswa!')\n",
    "    "
   ]
  },
  {
   "cell_type": "markdown",
   "id": "57ea9062-e1af-4650-8eab-a47a01a9d04f",
   "metadata": {
    "id": "57ea9062-e1af-4650-8eab-a47a01a9d04f"
   },
   "source": [
    "Suatu aplikasi streaming memiliki batasan usia:\n",
    "<ol>\n",
    "<li>Film Semua Umur: Bisa ditonton oleh siapa saja</li>\n",
    "<li>Film Remaja: Hanya untuk usia ≥ 13 tahun</li>\n",
    "<li>Film Dewasa: Hanya untuk usia ≥ 18 tahun</li>\n",
    "</ol>\n",
    "Buat program yang meminta input usia dan kategori film, lalu tentukan apakah seseorang boleh menonton film tersebut atau tidak."
   ]
  },
  {
   "cell_type": "code",
   "execution_count": 44,
   "id": "2c00f464-3390-4c94-9ec2-4b63c55b871b",
   "metadata": {
    "id": "2c00f464-3390-4c94-9ec2-4b63c55b871b"
   },
   "outputs": [
    {
     "name": "stdin",
     "output_type": "stream",
     "text": [
      "usia :  14\n",
      "kategori dewasa\n"
     ]
    },
    {
     "name": "stdout",
     "output_type": "stream",
     "text": [
      "anda tidak boleh menonton\n"
     ]
    }
   ],
   "source": [
    "usia = int(input('usia : '))\n",
    "kategori = input('kategori')\n",
    "\n",
    "if usia >= 13 and kategori == 'remaja':\n",
    "    print('anda boleh menonton!')\n",
    "elif usia >= 18 and kategori == 'dewasa':\n",
    "    print('anda boleh menonton!')\n",
    "elif usia >= 0 and kategori == 'semua umur':\n",
    "    print('anda boleh menonton!')\n",
    "else:\n",
    "    print('anda tidak boleh menonton')\n"
   ]
  },
  {
   "cell_type": "markdown",
   "id": "7b87c04c-85f0-4dc1-a14a-f67d8b2c4e6a",
   "metadata": {
    "id": "7b87c04c-85f0-4dc1-a14a-f67d8b2c4e6a"
   },
   "source": [
    "Sebuah toko memberikan diskon berdasarkan jumlah pembelian:\n",
    "<ol>\n",
    "<li>Jika total belanja ≥ Rp 500.000 → Diskon 20%</li>\n",
    "<li>Jika total belanja ≥ Rp 250.000 → Diskon 10%</li>\n",
    "<li>Jika total belanja < Rp 250.000 → Tidak ada diskon</li>\n",
    "</ol>\n",
    "Hitung harga akhir setelah diskon."
   ]
  },
  {
   "cell_type": "code",
   "execution_count": 58,
   "id": "966923a0-c87b-4559-8fc1-3090d448ad4a",
   "metadata": {
    "id": "966923a0-c87b-4559-8fc1-3090d448ad4a"
   },
   "outputs": [
    {
     "name": "stdin",
     "output_type": "stream",
     "text": [
      "masukkan total belanja anda : Rp 200000\n"
     ]
    },
    {
     "name": "stdout",
     "output_type": "stream",
     "text": [
      "tidak ada diskon\n"
     ]
    }
   ],
   "source": [
    "totalBelanja = int(input('masukkan total belanja anda : Rp'))\n",
    "\n",
    "if totalBelanja >= 500000:\n",
    "    diskon1 = 20\n",
    "    hitung1 = totalBelanja - (totalBelanja * diskon / 100)\n",
    "    print('anda mendapatkan diskon 20%!, harga yang harus dibayar sebesar Rp ', hitung1)\n",
    "elif totalBelanja >= 250000:\n",
    "    diskon2 = 10\n",
    "    hitung2 = totalBelanja - (totalBelanja * diskon / 100)\n",
    "    print('anda mendapatkan diskon 10%!, harga yang harus dibayar sebesar Rp ', hitung2)\n",
    "elif totalBelanja < 250000:\n",
    "    print('tidak ada diskon')"
   ]
  },
  {
   "cell_type": "markdown",
   "id": "88e22629-48cc-4917-86e7-2bf4df863182",
   "metadata": {
    "id": "88e22629-48cc-4917-86e7-2bf4df863182"
   },
   "source": [
    "Program parkir:\n",
    "<ol>\n",
    "<li>Mobil: Rp 5.000 per jam</li>\n",
    "<li>Motor: Rp 2.000 per jam</li>\n",
    "<li>Jika parkir lebih dari 5 jam, ada biaya tambahan Rp 10.000</li>\n",
    "</ol>\n",
    "Hitung total biaya parkir berdasarkan jenis kendaraan dan durasi parkir."
   ]
  },
  {
   "cell_type": "code",
   "execution_count": 62,
   "id": "b8f7b918-70a1-4a88-945f-406c4aafbec7",
   "metadata": {
    "id": "b8f7b918-70a1-4a88-945f-406c4aafbec7"
   },
   "outputs": [
    {
     "name": "stdout",
     "output_type": "stream",
     "text": [
      "jenis kendaraan :\n",
      "1. Mobil [1]\n",
      "2. Motor [2]\n"
     ]
    },
    {
     "name": "stdin",
     "output_type": "stream",
     "text": [
      "jenis kendaraan : 1\n",
      "berapa lama parkir?  7\n"
     ]
    },
    {
     "name": "stdout",
     "output_type": "stream",
     "text": [
      "tarid parkir yang harus anda bayar Rp  45000\n"
     ]
    }
   ],
   "source": [
    "print('jenis kendaraan :')\n",
    "print('1. Mobil [1]')\n",
    "print('2. Motor [2]')\n",
    "pilih = int(input('jenis kendaraan :'))\n",
    "durasi = int(input('berapa lama parkir? '))\n",
    "\n",
    "mobil = 5000\n",
    "motor = 2000\n",
    "\n",
    "if pilih == 1:\n",
    "    tarif = mobil * durasi + 10000 if durasi > 5 else mobil * durasi\n",
    "elif pilih == 2:\n",
    "    tarif = motor * durasi + 10000 if durasi > 5 else motor * durasi\n",
    "print('tarid parkir yang harus anda bayar Rp ', tarif)"
   ]
  },
  {
   "cell_type": "markdown",
   "id": "2db1d34c-3f80-4f8c-aaf2-910c38c05414",
   "metadata": {
    "id": "2db1d34c-3f80-4f8c-aaf2-910c38c05414"
   },
   "source": [
    "Aplikasi transportasi online memiliki tarif sebagai berikut:\n",
    "<ol>\n",
    "<li>Jika jarak ≤ 5 km → Rp 5.000/km</li>\n",
    "<li>Jika jarak 6-10 km → Rp 4.000/km</li>\n",
    "<li>Jika jarak > 10 km → Rp 3.000/km</li>\n",
    "</ol>\n",
    "Hitung tarif perjalanan berdasarkan jarak yang dimasukkan pengguna.\n"
   ]
  },
  {
   "cell_type": "code",
   "execution_count": 64,
   "id": "5a5b719e-76f6-4f45-a8e4-07853113ce9e",
   "metadata": {
    "id": "5a5b719e-76f6-4f45-a8e4-07853113ce9e"
   },
   "outputs": [
    {
     "name": "stdin",
     "output_type": "stream",
     "text": [
      "masukkan jarak perjalanan [km] :  5\n"
     ]
    },
    {
     "name": "stdout",
     "output_type": "stream",
     "text": [
      "total tarif Rp  25000\n"
     ]
    }
   ],
   "source": [
    "tempuh = int(input('masukkan jarak perjalanan [km] : '))\n",
    "if tempuh <= 5:\n",
    "    tarif = 5000 * tempuh\n",
    "elif 6 <= tempuh <= 10:\n",
    "    tarif = 4000 * tempuh\n",
    "elif tembuh > 10:\n",
    "    tarif = 3000 * tempuh\n",
    "print('total tarif Rp ', tarif)\n",
    "    "
   ]
  },
  {
   "cell_type": "markdown",
   "id": "d1cf7b61-e309-40ec-b1fd-4bc56550a10d",
   "metadata": {
    "id": "d1cf7b61-e309-40ec-b1fd-4bc56550a10d"
   },
   "source": [
    "Buatlah sebuah sistem penerimaan calon programmer yang akan menerima dua nilai ( nilai coding dan nilai interview). Untuk penilaian test coding skala penilaian yang diberikan dimulai dari 0 hingga 100 dengan sistem penilaian:\n",
    "<ol>\n",
    "<li>ketika seseorang mendapatkan nilai lebih dari 80 maka peserta tersebut akan mendapatkan hasil tes LOLOS</li>\n",
    "<li>ketika sesorang mendapatkan nilai diantara 60 hingga 80 maka peserta tersebut mendapatkan hasil tes DIPERTIMBANGKAN</li>\n",
    "<li>ketika seseorang mendapatkan nilai dibawah 60 maka peserta tersebut mendapatkan hasil tes GAGAL.</li>\n",
    "</ol>\n",
    "\n",
    "Sedangkan untuk penilaian interview adalah\n",
    "<ol>\n",
    "<li>ketika nilai yang diberikan kepada seseorang tersebut adalah \"A\" atau \"B\" maka peserta tersebut dianggap LOLOS interview</li>\n",
    "\n",
    "<li>selain kedua nilai tersebut maka peserta dianggap GAGAL tes interview.</li>\n",
    "</ol>\n",
    "\n",
    "Ketika calon programmer mendapatkan nilai coding LOLOS atau DIPERTIMBANGKAN dan juga LOLOS test interview maka tampilkanlah pesan \"Selamat Kamu Berhasil Menjadi Calon Programmer\". Jika tidak maka tampilkanlah pesan \"Maaf Kamu Belum Berhasil Menjadi Calon Programmer\""
   ]
  },
  {
   "cell_type": "code",
   "execution_count": 72,
   "id": "7aeb0f89-e957-4c0d-a29c-139fc269e1c0",
   "metadata": {
    "id": "7aeb0f89-e957-4c0d-a29c-139fc269e1c0"
   },
   "outputs": [
    {
     "name": "stdin",
     "output_type": "stream",
     "text": [
      "nilai coding :  90\n",
      "nilai interview :  C\n"
     ]
    },
    {
     "name": "stdout",
     "output_type": "stream",
     "text": [
      "MAAF KAMU BELUM BERHASIL MENJADI CALON PROGRAMMER!\n"
     ]
    }
   ],
   "source": [
    "coding = int(input('nilai coding : '))\n",
    "interview = input('nilai interview : ')\n",
    "\n",
    "if coding > 80:\n",
    "    hasil1 = 'LOLOS'\n",
    "elif 60 <= coding <= 80:\n",
    "    hasil1 = 'DIPERTIMBANGKAN'\n",
    "elif coding < 60:\n",
    "    hasil1 = 'GAGAL'\n",
    "\n",
    "if interview == 'A' or interview == 'B':\n",
    "    hasil2 = 'LOLOS'\n",
    "else :\n",
    "    hasil2 = 'GAGAL'\n",
    "\n",
    "if (coding == 'LOLOS' or coding == 'DIPERTIMBANGKABN') and interview == 'LOLOS':\n",
    "    print('SELAMAT KAMU BERHASIL MENJADI CALON PROGRAMMER!')\n",
    "else:\n",
    "    print('MAAF KAMU BELUM BERHASIL MENJADI CALON PROGRAMMER!')"
   ]
  },
  {
   "cell_type": "markdown",
   "id": "364647af-075b-4bc0-8c83-4c816415ff74",
   "metadata": {
    "id": "364647af-075b-4bc0-8c83-4c816415ff74"
   },
   "source": [
    "Sebuah klub sepak bola “PERSEGI FC” mempunyai aturan dalam memberikan nomor punggung bagi para pemainnya. Para pemain diperbolehkan mempunyai posisi lebih dari 1. Berikut adalah beberapa\n",
    "aturannya:\n",
    "<ol>\n",
    "<li>Untuk nomor punggung genap, digunakan untuk posisi “target attacker”</li>\n",
    "<li>Untuk nomor punggung genap antara 50 – 100, digunakan untuk pemain yang “berhak dipilih menjadi capten team”</li>\n",
    "<li>Untuk nomor punggung ganjil, digunakan untuk posisi “defender”</li>\n",
    "<li>Untuk nomor punggung ganjil lebih dari 90, digunakan untuk posisi “Playmaker”</li>\n",
    "<li>Untuk nomor punggung ganjil kelipatan dari 3 dan 5, digunakan untuk posisi “keeper”</li>\n",
    "</ol>\n",
    "Buatlah program untuk melakukan pengecekan sebuah nomor punggung dapat berfungsi sebagai posisi apa saja."
   ]
  },
  {
   "cell_type": "code",
   "execution_count": null,
   "id": "2d1d5589-126b-44e3-9d9e-1bed865ff65c",
   "metadata": {
    "id": "2d1d5589-126b-44e3-9d9e-1bed865ff65c"
   },
   "outputs": [],
   "source": [
    "nomorPunggung = int(input(\"Masukkan nomor punggung: \"))\n",
    "\n",
    "if nomorPunggung % 2 == 0:\n",
    "    posisi = \"Target Attacker\"\n",
    "    if nomorPunggung >= 50 and nomorPunggung <= 100:\n",
    "        posisi = \"Pemain ini berhak dipilih menjadi captain team\"\n",
    "else:\n",
    "    posisi = \"Defender\"\n",
    "    if nomorPunggung > 90:\n",
    "        posisi = \"Playmaker\"\n",
    "    if nomorPunggung % 3 == 0 and nomorPunggung % 5 == 0:\n",
    "        posisi = \"Keeper\"\n",
    "        \n",
    "print (f\"Nomor Punggung Anda Adalah {nomorPunggung}. Maka Posisi yang dapat Anda Pilih Adalah {posisi}\")"
   ]
  }
 ],
 "metadata": {
  "colab": {
   "provenance": []
  },
  "kernelspec": {
   "display_name": "Python [conda env:base] *",
   "language": "python",
   "name": "conda-base-py"
  },
  "language_info": {
   "codemirror_mode": {
    "name": "ipython",
    "version": 3
   },
   "file_extension": ".py",
   "mimetype": "text/x-python",
   "name": "python",
   "nbconvert_exporter": "python",
   "pygments_lexer": "ipython3",
   "version": "3.12.7"
  }
 },
 "nbformat": 4,
 "nbformat_minor": 5
}
