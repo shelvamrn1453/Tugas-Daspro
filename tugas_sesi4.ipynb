{
 "cells": [
  {
   "cell_type": "markdown",
   "id": "0b91383d-f37e-4b82-ac80-fba3e34f2cb7",
   "metadata": {},
   "source": [
    "<h1>Operator Aritmatika</h1>"
   ]
  },
  {
   "cell_type": "code",
   "execution_count": 55,
   "id": "d6249ef9-c61a-4cbc-8eff-f72b54733b89",
   "metadata": {},
   "outputs": [
    {
     "name": "stdout",
     "output_type": "stream",
     "text": [
      "apel milik budi sebanyak 12\n",
      "jumlah teman budi 4\n",
      "jumlah apel yang diterima setiap teman Budi : 3.0\n",
      "-------------------------\n",
      "total apel milik teman budi setelah ditambah 8 buah sebanyak 5.0 buah\n"
     ]
    }
   ],
   "source": [
    "apelBudi = 12\n",
    "temanBudi = 4\n",
    "print('apel milik budi sebanyak', apelBudi)\n",
    "print('jumlah teman budi', temanBudi)\n",
    "\n",
    "apelShare = apelBudi / temanBudi\n",
    "print('jumlah apel yang diterima setiap teman Budi :', apelShare)\n",
    "\n",
    "print('-------------------------')\n",
    "#jika budi mendapatkan tambahan 8 apel\n",
    "apelTambah = 8\n",
    "apelShare = (apelBudi + apelTambah) / temanBudi\n",
    "print('total apel milik teman budi setelah ditambah 8 buah sebanyak', apelShare, 'buah')\n"
   ]
  },
  {
   "cell_type": "markdown",
   "id": "07bccecc-a540-4e1c-b301-452bc36e6666",
   "metadata": {},
   "source": [
    "<h1>Operator Perbandingan</h1>"
   ]
  },
  {
   "cell_type": "code",
   "execution_count": 5,
   "id": "94403fcb-2ab4-4381-877d-a61404ad9285",
   "metadata": {},
   "outputs": [
    {
     "name": "stdout",
     "output_type": "stream",
     "text": [
      "apakah tinggi Siti dengan Andi sama?  False\n",
      "apakah Siti lebih tinggi dari Andi? False\n",
      "apakah Andi lebih tinggi dari Siti? True\n"
     ]
    }
   ],
   "source": [
    "tinggiSiti = 160\n",
    "tinggiAndi = 165\n",
    "\n",
    "print(\"apakah tinggi Siti dengan Andi sama? \", tinggiSiti==tinggiAndi)\n",
    "print(\"apakah Siti lebih tinggi dari Andi?\", tinggiSiti>tinggiAndi)\n",
    "print(\"apakah Andi lebih tinggi dari Siti?\", tinggiSiti<tinggiAndi)"
   ]
  },
  {
   "cell_type": "markdown",
   "id": "e704fb2a-58b8-4459-bbda-c686e36cecf3",
   "metadata": {},
   "source": [
    "<h1>operator logika</h1>"
   ]
  },
  {
   "cell_type": "code",
   "execution_count": 17,
   "id": "2dcb9a1f-eddf-4833-9d60-6793cf9d4202",
   "metadata": {},
   "outputs": [
    {
     "name": "stdout",
     "output_type": "stream",
     "text": [
      "apakah cuaca diluar cerah? ya, no\n"
     ]
    },
    {
     "name": "stdin",
     "output_type": "stream",
     "text": [
      "jawaban anda : no\n"
     ]
    },
    {
     "name": "stdout",
     "output_type": "stream",
     "text": [
      "apakah budi sudah mengerjakan tugas? ya, no\n"
     ]
    },
    {
     "name": "stdin",
     "output_type": "stream",
     "text": [
      "jawaban anda : no\n"
     ]
    },
    {
     "name": "stdout",
     "output_type": "stream",
     "text": [
      "cuaca tidak cerah dan tugas belum selesai\n",
      "apakah Budi bisa bermain diluar?  no\n"
     ]
    }
   ],
   "source": [
    "\n",
    "print('apakah cuaca diluar cerah? ya, no')\n",
    "jawabanCuaca = str(input('jawaban anda :'))\n",
    "print('apakah budi sudah mengerjakan tugas? ya, no')\n",
    "jawabanTugas = str(input('jawaban anda :'))\n",
    "\n",
    "cuaca = 'cuaca cerah' if jawabanCuaca == 'ya' else 'cuaca tidak cerah'\n",
    "tugas = 'tugas sudah dikerjakan' if jawabanTugas == 'ya' else 'tugas belum selesai'\n",
    "print(cuaca, 'dan',tugas)\n",
    "\n",
    "hasil = 'ya' if jawabanCuaca == 'ya' and jawabanTugas == 'ya' else 'no'\n",
    "print('apakah Budi bisa bermain diluar? ', hasil)"
   ]
  },
  {
   "cell_type": "markdown",
   "id": "e9997ac4-5fa0-4ad3-8dc5-ebd630a0185b",
   "metadata": {},
   "source": [
    "<h1>operator bitwise</h1>"
   ]
  },
  {
   "cell_type": "code",
   "execution_count": 20,
   "id": "06f9cebb-e396-41c0-887f-851e75f0b152",
   "metadata": {},
   "outputs": [
    {
     "name": "stdout",
     "output_type": "stream",
     "text": [
      "biner dari  6 : 0b110\n",
      "biner dari  3 : 0b11\n",
      "0b110\n",
      "0b11\n",
      "--------and---------- &\n",
      "0b10\n",
      "hasil desimalnya adalah : 2\n",
      "0b110\n",
      "0b11\n",
      "-------or----------- |\n",
      "0b111\n",
      "hasil desimalnya adalah : 7\n",
      "0b110\n",
      "0b11\n",
      "-------xor----------- ^\n",
      "0b101\n",
      "hasil desimalnya adalah : 5\n"
     ]
    }
   ],
   "source": [
    "bil1 = 6\n",
    "bil2 = 3\n",
    "\n",
    "print('biner dari ', bil1, ':', bin(bil1))\n",
    "print(\"biner dari \", bil2, \":\", bin(bil2))\n",
    "\n",
    "#bitwise &\n",
    "bitwiseAnd = bil1 & bil2\n",
    "print(bin(bil1))\n",
    "print(bin(bil2))\n",
    "print('--------and---------- &')\n",
    "print(bin(bitwiseAnd))\n",
    "print('hasil desimalnya adalah :', bitwiseAnd)\n",
    "\n",
    "#bitwise or\n",
    "bitwiseOr = bil1 | bil2\n",
    "print(bin(bil1))\n",
    "print(bin(bil2))\n",
    "print('-------or----------- |')\n",
    "print(bin(bitwiseOr))\n",
    "print('hasil desimalnya adalah :', bitwiseOr)\n",
    "\n",
    "#botwise XOR\n",
    "bitwiseXor = bil1 ^ bil2\n",
    "print(bin(bil1))\n",
    "print(bin(bil2))\n",
    "print('-------xor----------- ^')\n",
    "print(bin(bitwiseXor))\n",
    "print('hasil desimalnya adalah :', bitwiseXor)"
   ]
  },
  {
   "cell_type": "markdown",
   "id": "575bd9fa-1e43-4d80-91f0-001551050a4c",
   "metadata": {},
   "source": [
    "<h1>operator penugasan</h1>"
   ]
  },
  {
   "cell_type": "code",
   "execution_count": 25,
   "id": "fb721a92-ce11-408a-be18-a491e114244a",
   "metadata": {},
   "outputs": [
    {
     "name": "stdout",
     "output_type": "stream",
     "text": [
      "saldo awal : 50000\n",
      "isi ulang : 20000\n",
      "beli internet : 30000\n",
      "total uang siswa tersebut : 70000\n",
      "total semua uang sisawa tersebut : 40000\n"
     ]
    }
   ],
   "source": [
    "saldoAwal = 50000\n",
    "isiUlang = 20000\n",
    "beliInternet = 30000\n",
    "\n",
    "print('saldo awal :', saldoAwal)\n",
    "print('isi ulang :', isiUlang)\n",
    "print('beli internet :', beliInternet)\n",
    "\n",
    "saldoAwal += isiUlang\n",
    "print('total uang siswa tersebut :', saldoAwal)\n",
    "\n",
    "saldoAwal -= beliInternet\n",
    "print('total semua uang sisawa tersebut :', saldoAwal)\n"
   ]
  },
  {
   "cell_type": "markdown",
   "id": "4539ac56-eb81-4f1d-a070-a30884022b17",
   "metadata": {},
   "source": [
    "<h1>operator keanggotaan</h1>"
   ]
  },
  {
   "cell_type": "code",
   "execution_count": 17,
   "id": "63acb3c2-7565-464d-a97f-b2f954c4d46c",
   "metadata": {},
   "outputs": [
    {
     "name": "stdin",
     "output_type": "stream",
     "text": [
      "isikan nama yang dicari : eka\n"
     ]
    },
    {
     "name": "stdout",
     "output_type": "stream",
     "text": [
      "False\n"
     ]
    }
   ],
   "source": [
    "nama = input(\"isikan nama yang dicari :\")\n",
    "listNama = [\"Andi\", \"Budi\", \"Caitra\", \"Dewi\"]\n",
    "print(nama in listNama)"
   ]
  },
  {
   "cell_type": "code",
   "execution_count": 21,
   "id": "caa4c6fe-26f6-4ba8-bce9-0fd520763890",
   "metadata": {},
   "outputs": [
    {
     "name": "stdin",
     "output_type": "stream",
     "text": [
      "isikan nama yang dicari : python\n"
     ]
    },
    {
     "name": "stdout",
     "output_type": "stream",
     "text": [
      "True\n"
     ]
    }
   ],
   "source": [
    "nama = input('isikan nama yang dicari :')\n",
    "listNama = \"saya suka belajar python\"\n",
    "print(nama in listNama)"
   ]
  },
  {
   "cell_type": "markdown",
   "id": "de85be42-78bd-484a-8af6-615dbd8292d7",
   "metadata": {},
   "source": [
    "<h1>operator identitas</h1>"
   ]
  },
  {
   "cell_type": "code",
   "execution_count": 32,
   "id": "f9bb8a2e-0bff-4d69-9af3-f309a209512e",
   "metadata": {},
   "outputs": [
    {
     "name": "stdout",
     "output_type": "stream",
     "text": [
      "memori address dari x 140716776434392\n",
      "memori address dari y 140716776434392\n",
      "apakah x adalah y  True\n"
     ]
    }
   ],
   "source": [
    "x = 10\n",
    "y = 10\n",
    "\n",
    "\n",
    "print(\"memori address dari x\", id(x))\n",
    "print(\"memori address dari y\", id(y))\n",
    "\n",
    "print(\"apakah x adalah y ? \", x is y)"
   ]
  },
  {
   "cell_type": "code",
   "execution_count": 34,
   "id": "861bd7ca-7f96-4001-b72d-e60ec18df3e5",
   "metadata": {},
   "outputs": [
    {
     "name": "stdout",
     "output_type": "stream",
     "text": [
      "memori address dari list1 2447052077056\n",
      "memori address dari list2 2447052075520\n",
      "apakah list 1 adalah list 2?  False\n"
     ]
    }
   ],
   "source": [
    "list1 = ['11','12','13']\n",
    "list2 = ['11','12','13']\n",
    "\n",
    "print(\"memori address dari list1\", id(list1))\n",
    "print(\"memori address dari list2\", id(list2))\n",
    "\n",
    "print(\"apakah list 1 adalah list 2? \", list1 is list2)\n",
    "\n"
   ]
  },
  {
   "cell_type": "markdown",
   "id": "5fc48d44-089a-4534-96eb-ff17d4ca43d8",
   "metadata": {},
   "source": [
    "<h1>operator ternary</h1>"
   ]
  },
  {
   "cell_type": "code",
   "execution_count": 43,
   "id": "cd440025-4189-40f5-8dc3-bc9ff45f4e8e",
   "metadata": {},
   "outputs": [
    {
     "name": "stdin",
     "output_type": "stream",
     "text": [
      "masukkan angka :  200\n"
     ]
    },
    {
     "name": "stdout",
     "output_type": "stream",
     "text": [
      "angka lebih besar dari 100\n"
     ]
    },
    {
     "name": "stdin",
     "output_type": "stream",
     "text": [
      "masukkan nilai : 80\n"
     ]
    },
    {
     "name": "stdout",
     "output_type": "stream",
     "text": [
      "lulus\n"
     ]
    }
   ],
   "source": [
    "angka = int(input('masukkan angka : '))\n",
    "hasil = 'angka lebih besar dari 100' if angka > 100 else 'angka tidak lebih dari 100'\n",
    "print(hasil)\n",
    "\n",
    "\n",
    "nilai = int(input('masukkan nilai :'))\n",
    "hasilNilai = 'lulus' if nilai > 70 else 'tidak lulu'\n",
    "print(hasilNilai)"
   ]
  }
 ],
 "metadata": {
  "kernelspec": {
   "display_name": "Python [conda env:base] *",
   "language": "python",
   "name": "conda-base-py"
  },
  "language_info": {
   "codemirror_mode": {
    "name": "ipython",
    "version": 3
   },
   "file_extension": ".py",
   "mimetype": "text/x-python",
   "name": "python",
   "nbconvert_exporter": "python",
   "pygments_lexer": "ipython3",
   "version": "3.12.7"
  }
 },
 "nbformat": 4,
 "nbformat_minor": 5
}
