{
 "cells": [
  {
   "cell_type": "code",
   "execution_count": 55,
   "id": "96bf4c2e-37eb-45c0-9a53-3afbdbdf93c3",
   "metadata": {},
   "outputs": [
    {
     "name": "stdout",
     "output_type": "stream",
     "text": [
      "\n",
      "===== SISTEM E-VOTING =====\n",
      "1. Daftar Pemilih\n",
      "2. Daftar Calon Ketua\n",
      "3. Voting\n",
      "4. Tampilkan Hasil Sementara\n",
      "5. Statistik Pemilu\n",
      "6. Keluar\n"
     ]
    },
    {
     "name": "stdin",
     "output_type": "stream",
     "text": [
      "Pilih menu (1-6):  1\n"
     ]
    },
    {
     "ename": "TypeError",
     "evalue": "tambah_pemilih() missing 3 required positional arguments: 'id_pemilih', 'nama', and 'jurusan'",
     "output_type": "error",
     "traceback": [
      "\u001b[1;31m---------------------------------------------------------------------------\u001b[0m",
      "\u001b[1;31mTypeError\u001b[0m                                 Traceback (most recent call last)",
      "Cell \u001b[1;32mIn[55], line 32\u001b[0m\n\u001b[0;32m     29\u001b[0m             \u001b[38;5;28mprint\u001b[39m(\u001b[38;5;124m\"\u001b[39m\u001b[38;5;124mPilihan tidak valid.\u001b[39m\u001b[38;5;124m\"\u001b[39m)\n\u001b[0;32m     31\u001b[0m \u001b[38;5;28;01mif\u001b[39;00m \u001b[38;5;18m__name__\u001b[39m \u001b[38;5;241m==\u001b[39m \u001b[38;5;124m\"\u001b[39m\u001b[38;5;124m__main__\u001b[39m\u001b[38;5;124m\"\u001b[39m:\n\u001b[1;32m---> 32\u001b[0m     main()\n",
      "Cell \u001b[1;32mIn[55], line 16\u001b[0m, in \u001b[0;36mmain\u001b[1;34m()\u001b[0m\n\u001b[0;32m     13\u001b[0m pilihan \u001b[38;5;241m=\u001b[39m \u001b[38;5;28minput\u001b[39m(\u001b[38;5;124m\"\u001b[39m\u001b[38;5;124mPilih menu (1-6): \u001b[39m\u001b[38;5;124m\"\u001b[39m)\n\u001b[0;32m     15\u001b[0m \u001b[38;5;28;01mif\u001b[39;00m pilihan \u001b[38;5;241m==\u001b[39m \u001b[38;5;124m\"\u001b[39m\u001b[38;5;124m1\u001b[39m\u001b[38;5;124m\"\u001b[39m:     \n\u001b[1;32m---> 16\u001b[0m     pemilih\u001b[38;5;241m.\u001b[39mtambah_pemilih()\n\u001b[0;32m     17\u001b[0m \u001b[38;5;28;01melif\u001b[39;00m pilihan \u001b[38;5;241m==\u001b[39m \u001b[38;5;124m\"\u001b[39m\u001b[38;5;124m2\u001b[39m\u001b[38;5;124m\"\u001b[39m:\n\u001b[0;32m     18\u001b[0m     calon\u001b[38;5;241m.\u001b[39mtambah_calon()\n",
      "\u001b[1;31mTypeError\u001b[0m: tambah_pemilih() missing 3 required positional arguments: 'id_pemilih', 'nama', and 'jurusan'"
     ]
    }
   ],
   "source": [
    "from modul import pemilih, calon, voting, statistik\n",
    "\n",
    "def main():\n",
    "    while True:\n",
    "        print(\"\\n===== SISTEM E-VOTING =====\")\n",
    "        print(\"1. Daftar Pemilih\")\n",
    "        print(\"2. Daftar Calon Ketua\")\n",
    "        print(\"3. Voting\")\n",
    "        print(\"4. Tampilkan Hasil Sementara\")\n",
    "        print(\"5. Statistik Pemilu\")\n",
    "        print(\"6. Keluar\")\n",
    "\n",
    "        pilihan = input(\"Pilih menu (1-6): \")\n",
    "\n",
    "        if pilihan == \"1\":     \n",
    "            pemilih.tambah_pemilih()\n",
    "        elif pilihan == \"2\":\n",
    "            calon.tambah_calon()\n",
    "        elif pilihan == \"3\":\n",
    "            voting.lakukan_voting()\n",
    "        elif pilihan == \"4\":\n",
    "            voting.tampilkan_hasil()\n",
    "        elif pilihan == \"5\":\n",
    "            statistik.tampilkan_statistik()\n",
    "        elif pilihan == \"6\":\n",
    "            print(\"Terima kasih!\")\n",
    "            break\n",
    "        else:\n",
    "            print(\"Pilihan tidak valid.\")\n",
    "\n",
    "if __name__ == \"__main__\":\n",
    "    main()\n"
   ]
  },
  {
   "cell_type": "code",
   "execution_count": null,
   "id": "c36723d6-0a60-4068-aec7-bb16e25ab565",
   "metadata": {},
   "outputs": [],
   "source": []
  },
  {
   "cell_type": "code",
   "execution_count": null,
   "id": "558bc6d4-4735-42fe-85b8-c8bd14735d9a",
   "metadata": {},
   "outputs": [],
   "source": []
  }
 ],
 "metadata": {
  "kernelspec": {
   "display_name": "Python [conda env:base] *",
   "language": "python",
   "name": "conda-base-py"
  },
  "language_info": {
   "codemirror_mode": {
    "name": "ipython",
    "version": 3
   },
   "file_extension": ".py",
   "mimetype": "text/x-python",
   "name": "python",
   "nbconvert_exporter": "python",
   "pygments_lexer": "ipython3",
   "version": "3.12.7"
  }
 },
 "nbformat": 4,
 "nbformat_minor": 5
}
