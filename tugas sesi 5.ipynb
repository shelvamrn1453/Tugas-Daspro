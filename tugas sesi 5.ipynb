{
 "cells": [
  {
   "cell_type": "markdown",
   "id": "e088063c-6918-4b27-a6ff-f8c89e1dc6d1",
   "metadata": {},
   "source": [
    "<h1>soal 1</h1>\n",
    "Buatlah biodata sederhana dengan menggunakan fungsi input(), dan\n",
    "output variabel dengan fungsi format()."
   ]
  },
  {
   "cell_type": "code",
   "execution_count": 12,
   "id": "8518d583-82f3-4b13-b6c7-a4dad43ec6eb",
   "metadata": {},
   "outputs": [
    {
     "name": "stdin",
     "output_type": "stream",
     "text": [
      "Masukkan nama depan : shelva\n",
      "Masukkan nama tengah : meriana\n",
      "Masukkan nama belakang : n\n",
      "Masukkan nama Kampus : universitas nusa putra\n",
      "Masukkan nama jurusan : teknik informatika\n",
      "masukkan NIM : 20240040075\n"
     ]
    },
    {
     "name": "stdout",
     "output_type": "stream",
     "text": [
      "---------------------------------------------\n",
      "biodata anda :\n",
      "nama : shelva meriana n\n",
      "info mahasiswa/i : Berkuliah di kampus universitas nusa putra, mengambil jurusan teknik informatika, dengan NIM 20240040075\n"
     ]
    }
   ],
   "source": [
    "namaD =  input('Masukkan nama depan :')\n",
    "namaT = input('Masukkan nama tengah :')\n",
    "namaB = input('Masukkan nama belakang :')\n",
    "insitut = input('Masukkan nama Kampus :')\n",
    "jurusan = input('Masukkan nama jurusan :')\n",
    "nim = input('masukkan NIM :')\n",
    "print('---------------------------------------------')\n",
    "print('biodata anda :')\n",
    "print('nama : {} {} {}'.format(namaD,namaT,namaB))\n",
    "print('info mahasiswa/i : Berkuliah di kampus {}, mengambil jurusan {}, dengan NIM {}'.format(insitut, jurusan,nim))"
   ]
  },
  {
   "cell_type": "markdown",
   "id": "3e1dc9e7-bbf5-4794-9895-cda34c7c4990",
   "metadata": {},
   "source": [
    "<h1>soal 2</h1>\n",
    "Jika terdapat kalimat UNIVERSITAS NUSA PUTRA SUKABUMI ,buatlah\n",
    "kode program untuk menampilkan output:\n",
    "a. putra nusa \n",
    "b. NIVERSITAS NSA PTRA SKABMI\n",
    "c. SUKABUMI PUTRA NUSA UNIVERSITAS\n",
    "d. UNPS\n",
    "e. TAS SAPU BUMI"
   ]
  },
  {
   "cell_type": "code",
   "execution_count": 32,
   "id": "c3ac465b-3aa4-4d2f-957c-1d66a101c786",
   "metadata": {},
   "outputs": [
    {
     "name": "stdout",
     "output_type": "stream",
     "text": [
      "A. putra nusa\n",
      "B. NIVERSITAS NSA PTRA SKABMI\n",
      "C. SUKABUMI PUTRA NUSA UNIVERSITAS\n",
      "D. UNPS\n",
      "E. TAS SAPU BUMI\n"
     ]
    }
   ],
   "source": [
    "kalimat = 'UNIVERSITAS NUSA PUTRA SUKABUMI'\n",
    "kata = kalimat.split(' ')\n",
    "\n",
    "print(\"A.\", kata[2].lower(), kata[1].lower())\n",
    "print(\"B.\", kalimat.replace(\"U\", \"\"))\n",
    "print(\"C.\", kata[3], kata[2], kata[1], kata[0])\n",
    "print(\"D.\", kata[0][0] + kata[1][0] + kata[2][0] + kata[3][0])\n",
    "print(\"E.\", kata[0][8:11], kata[1][2:4] + kata[2][0:2], kata[3][4:8])"
   ]
  }
 ],
 "metadata": {
  "kernelspec": {
   "display_name": "Python [conda env:base] *",
   "language": "python",
   "name": "conda-base-py"
  },
  "language_info": {
   "codemirror_mode": {
    "name": "ipython",
    "version": 3
   },
   "file_extension": ".py",
   "mimetype": "text/x-python",
   "name": "python",
   "nbconvert_exporter": "python",
   "pygments_lexer": "ipython3",
   "version": "3.12.7"
  }
 },
 "nbformat": 4,
 "nbformat_minor": 5
}
